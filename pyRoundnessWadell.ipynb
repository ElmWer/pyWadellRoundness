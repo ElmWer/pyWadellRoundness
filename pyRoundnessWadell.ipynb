{
 "cells": [
  {
   "cell_type": "markdown",
   "metadata": {},
   "source": [
    "# **pyWadellRoundness**\n",
    "\n"
   ]
  },
  {
   "cell_type": "code",
   "execution_count": 10,
   "metadata": {},
   "outputs": [],
   "source": [
    "%matplotlib  ipympl\n",
    "\n",
    "import numpy as np\n",
    "import scipy as sp\n",
    "import pandas as pd\n",
    "import matplotlib.pyplot as plt\n",
    "\n",
    "from shapely.geometry import asPolygon, Point\n",
    "from matplotlib import path  # Point in Polygon\n",
    "from scipy import optimize\n",
    "from scipy import signal\n",
    "from scipy import spatial"
   ]
  },
  {
   "cell_type": "markdown",
   "metadata": {},
   "source": [
    "# Functions"
   ]
  },
  {
   "cell_type": "markdown",
   "metadata": {},
   "source": [
    "## Largest Inscribed Circle"
   ]
  },
  {
   "cell_type": "code",
   "execution_count": 11,
   "metadata": {},
   "outputs": [],
   "source": [
    "def pyLIC(points):\n",
    "    '''\n",
    "    LIC: Largest Inner Circle between Points\n",
    "    \n",
    "    see: https://en.wikipedia.org/wiki/Largest_empty_sphere\n",
    "    The largest inner circle problem is the problem of finding\n",
    "    a circle of largest radius in the plane whose interior\n",
    "    does not overlap with any given point and whose center\n",
    "    is lying in the convex hull of the points.\n",
    "    \n",
    "    Hint: The LIC is centered at the internal Voronoi vertices\n",
    "    with the largest shortest distance to the polygon\n",
    "\n",
    "    Parameters\n",
    "    ----------\n",
    "    points : 2d numpy array with x, y coordinate of the points\n",
    "             on the Concave Hull\n",
    "\n",
    "    Returns\n",
    "    -------\n",
    "    LIC_Diameter: scalar\n",
    "    '''\n",
    "\n",
    "    # Step 1: get Voronoi vertices (scipy.spatial)\n",
    "    vor_Verts = spatial.Voronoi(points).vertices\n",
    "\n",
    "    # Step 2: select Voronoi vertices inside the convex hull (mpl)\n",
    "    polygon = path.Path(points)\n",
    "    selector = polygon.contains_points(vor_Verts)\n",
    "    vor_Verts = vor_Verts[selector]  # Verts inside Polygon\n",
    "\n",
    "    # Step 3: Get nearest neighbors as well as radius of LIC\n",
    "    tree = spatial.KDTree(points)\n",
    "    neighbores = tree.query(vor_Verts)\n",
    "    idx = np.argmax(neighbores[0])\n",
    "    Radius = neighbores[0][idx]\n",
    "    Centroid = vor_Verts[idx]\n",
    "    \n",
    "    return Centroid[0], Centroid[1], Radius, "
   ]
  },
  {
   "cell_type": "markdown",
   "metadata": {},
   "source": [
    "## Smooth Boundary"
   ]
  },
  {
   "cell_type": "code",
   "execution_count": 12,
   "metadata": {},
   "outputs": [],
   "source": [
    "def smooth_Boundary(concave_hull):\n",
    "    \"\"\" Generate smooth boundary from concave hull,\n",
    "    using scipy.signal.convolve\n",
    "    Parameters\n",
    "    ----------\n",
    "    concave hull : obj\n",
    "        List of coordinates of pixels of concave hull\n",
    "    Returns\n",
    "    -------\n",
    "    boundary : 2D array\n",
    "        List of coordinates of pixels in the boundary\n",
    "    \"\"\"\n",
    "    \n",
    "    concave_hull = np.array(concave_hull)\n",
    "\n",
    "    # window size and type\n",
    "    win_size = max(5, int(asPolygon(concave_hull).length / 15))\n",
    "    win_size = min(10, win_size)\n",
    "    win = signal.hamming(win_size)\n",
    "\n",
    "    # extent boundary to solve some convolute topics\n",
    "    ext_left = concave_hull[-win_size:]\n",
    "    hull_extended = np.insert(concave_hull, 0, ext_left, axis=0)\n",
    "\n",
    "    # apply filter\n",
    "    X = signal.convolve(hull_extended[:, 0], win, mode='valid', method='auto') / sum(win)\n",
    "    Y = signal.convolve(hull_extended[:, 1], win, mode='valid', method='auto') / sum(win)\n",
    "\n",
    "    boundary = np.column_stack((X, Y))\n",
    "    \n",
    "    return boundary"
   ]
  },
  {
   "cell_type": "markdown",
   "metadata": {},
   "source": [
    "## Fit Circle to Points"
   ]
  },
  {
   "cell_type": "code",
   "execution_count": 13,
   "metadata": {},
   "outputs": [],
   "source": [
    "def _lsq_Circle(xy):\n",
    "    \"\"\"Find the least squares circle fitting a set of 2D points (x,y)\n",
    "    see: http://www.scipy.org/Cookbook/Least_Squares_Circle\n",
    "    \n",
    "    Parameters\n",
    "    ---------\n",
    "    xy : Coordinates of the points as 2d np.array\n",
    "         [(x1, y1), (x2, y2), ... (xn, yn)]\n",
    "         \n",
    "    Returns\n",
    "    -------\n",
    "    center : Center of circle (x, y)\n",
    "    radius : Radius of circle (skalar)\n",
    "    \"\"\"\n",
    "    \n",
    "    def calc_Distance(xc, yc):\n",
    "        \"\"\" calculate the distance of each 2D points from the center (xc, yc) \"\"\"\n",
    "        return np.sqrt((xs-xc)**2 + (ys-yc)**2)\n",
    "\n",
    "    def cost_function(c):\n",
    "        \"\"\" calculate the algebraic distance between the 2D points and\n",
    "        the mean circle centered at c=(xc, yc) \"\"\"\n",
    "        Ri = calc_Distance(*c)\n",
    "        return Ri - Ri.mean()\n",
    "    \n",
    "    # x, y coordinates of the points\n",
    "    xs, ys = xy[:,0], xy[:,1]\n",
    "    \n",
    "    # just a good starting point\n",
    "    p0 = np.mean(xs), np.mean(ys) # (=barycenter)\n",
    "    \n",
    "    try:\n",
    "        # optimization: center of the lsq-Circle\n",
    "        center, _ = optimize.leastsq(cost_function, p0)\n",
    "        # radius of the lsq-Circle\n",
    "        radius = calc_Distance(*center).mean()\n",
    "        return center, radius\n",
    "    \n",
    "    except Exception as e:\n",
    "        print('LSQ-Circle', e)\n",
    "\n",
    "        return (np.nan, np.nan), np.nan"
   ]
  },
  {
   "cell_type": "markdown",
   "metadata": {},
   "source": [
    "## Roundness after Wadell 1032"
   ]
  },
  {
   "cell_type": "code",
   "execution_count": 14,
   "metadata": {},
   "outputs": [],
   "source": [
    "def _NumPoints(boundary_length):\n",
    "    '''Number of points used in function Roundness to calculate radius\n",
    "    of circles as a function of the length (number of points)\n",
    "    of the boundary'''\n",
    "\n",
    "    # empirical data\n",
    "    bl  = [25, 50, 100]  # boundary length\n",
    "    num = [ 4,  6,   8]  # number of points\n",
    "\n",
    "    if boundary_length <= 25:\n",
    "        num_points = min(num)\n",
    "    elif boundary_length >= 100:\n",
    "        num_points = max(num)\n",
    "    else:\n",
    "        f = sp.interpolate.interp1d(bl, num)\n",
    "        num_points = f(boundary_length)\n",
    "    return int(num_points)\n",
    "\n",
    "def _WindowSize(boundary_length):\n",
    "    '''windos size in points used in Roundness to find corners\n",
    "    (valley), depending on the length (number of points) of\n",
    "    the boundary'''\n",
    "\n",
    "    # empirical data\n",
    "    bl = [20, 50, 100, 200, 300, 400, 500]  # boundary length\n",
    "    ws = [ 1,  2,   3,   9,  11,  13,  14]  # window width\n",
    "\n",
    "    if boundary_length < 100:\n",
    "        window_size = min(ws)\n",
    "    elif boundary_length > 500:\n",
    "        window_size = max(ws)\n",
    "    else:\n",
    "        f = sp.interpolate.interp1d(bl, ws)\n",
    "        window_size = f(boundary_length)\n",
    "    return int(window_size)"
   ]
  },
  {
   "cell_type": "code",
   "execution_count": 27,
   "metadata": {},
   "outputs": [],
   "source": [
    "def Roundness_Wadell(boundary, LIC_R):\n",
    "\n",
    "    # extent boundary to solve some 'wrap' topics\n",
    "    num_points = _NumPoints(boundary.shape[0])\n",
    "    ext_left = boundary[-num_points:]\n",
    "    boundary = np.insert(boundary, 0, ext_left, axis=0)\n",
    "\n",
    "    # radii of circles at all points of the boundary calculated with num_points\n",
    "    radii, centers = [], []\n",
    "    for i in range(len(boundary)-num_points):\n",
    "        points = boundary[i:i+num_points]\n",
    "        c_i, r_i = _lsq_Circle(points)\n",
    "        centers.append(c_i)\n",
    "        radii.append(r_i)     \n",
    "    centers = np.array(centers) # list to np.array\n",
    "    radii   = np.array(radii)\n",
    "\n",
    "    # find valleys (corners, radius at P smaller as radius of Points within win_size)\n",
    "    win_size = _WindowSize(boundary.shape[0])\n",
    "\n",
    "    selector = signal.argrelextrema(radii, comparator=np.less, order=win_size)\n",
    "    centers = centers[selector]\n",
    "    radii   = radii[selector]\n",
    "\n",
    "    # Cirles with radius < radius of largest inner circle\n",
    "    selector = []\n",
    "    for idx, r in enumerate(radii):\n",
    "        if radii[idx] < LIC_R: selector.append(idx)\n",
    "    radii   = radii[selector]\n",
    "    centers = centers[selector]\n",
    "\n",
    "    # Circles within boundary\n",
    "    selector = []\n",
    "    for idx in range(len(radii)):\n",
    "\n",
    "        # points (shapely) on circle\n",
    "        n = 10\n",
    "        t = np.linspace(0, 2*np.pi, n, endpoint=True)\n",
    "        x = radii[idx] * np.cos(t) + centers[idx][0]\n",
    "        y = radii[idx] * np.sin(t) + centers[idx][1]\n",
    "        points_ofCircle = np.stack((x, y), axis=-1)\n",
    "        points_ofCircle = [Point(p) for p in points_ofCircle]\n",
    "\n",
    "        # points within boundary\n",
    "        polygon =asPolygon(boundary).buffer(1)\n",
    "        within = [p.within(polygon) for p in points_ofCircle]  # True!\n",
    "        selector.append(all(within))\n",
    "\n",
    "    radii   = radii[selector]\n",
    "    centers = centers[selector]\n",
    "    R = np.mean(radii) / LIC_R\n",
    "\n",
    "    return R, np.array(radii), np.array(centers)\n"
   ]
  },
  {
   "cell_type": "markdown",
   "metadata": {},
   "source": [
    "# Test\n",
    "## Prepare data"
   ]
  },
  {
   "cell_type": "code",
   "execution_count": 28,
   "metadata": {},
   "outputs": [],
   "source": [
    "# read test Data\n",
    "points = pd.read_csv('test_dat.csv').to_numpy()\n",
    "\n",
    "# smoothed boundary\n",
    "boundary = smooth_Boundary(points)\n",
    "\n",
    "# largest Inscribed Circle\n",
    "LIC_x, LIC_y, LIC_R = pyLIC(points)"
   ]
  },
  {
   "cell_type": "markdown",
   "metadata": {},
   "source": [
    "## Test Function"
   ]
  },
  {
   "cell_type": "code",
   "execution_count": 29,
   "metadata": {},
   "outputs": [],
   "source": [
    "# Wadell Corners: R, radii und centers of circles defined by corners\n",
    "R, Wadell_radii, Wadell_centers = Roundness_Wadell(boundary, LIC_R)"
   ]
  },
  {
   "cell_type": "markdown",
   "metadata": {},
   "source": [
    "# Show Result"
   ]
  },
  {
   "cell_type": "code",
   "execution_count": 30,
   "metadata": {},
   "outputs": [
    {
     "data": {
      "application/vnd.jupyter.widget-view+json": {
       "model_id": "997f3962075f4a60941992c78d93e7ab",
       "version_major": 2,
       "version_minor": 0
      },
      "text/plain": [
       "Canvas(toolbar=Toolbar(toolitems=[('Home', 'Reset original view', 'home', 'home'), ('Back', 'Back to previous …"
      ]
     },
     "metadata": {},
     "output_type": "display_data"
    }
   ],
   "source": [
    "fig, ax = plt.subplots()\n",
    "ax.set_aspect('equal')\n",
    "\n",
    "ax.set_title('Roundness Wadell: ' + str(round(R, 2)))\n",
    "\n",
    "ax.plot(points[:, 0], points[:, 1], 'k.', label='original data')\n",
    "\n",
    "ax.plot(boundary[:, 0], boundary[:, 1], 'b-', lw=1, label='smoothed boundary')\n",
    "circle = plt.Circle(xy=(LIC_x, LIC_y), radius=LIC_R, \n",
    "                    ec='r', fc='None', lw=2)\n",
    "ax.add_artist(circle)\n",
    "\n",
    "for idx, _ in enumerate(Wadell_radii):\n",
    "    circle = plt.Circle(xy=Wadell_centers[idx], radius=Wadell_radii[idx],\n",
    "                        ec='g', color='None', lw=1.5)\n",
    "    ax.add_artist(circle)\n",
    "\n",
    "\n"
   ]
  },
  {
   "cell_type": "code",
   "execution_count": null,
   "metadata": {},
   "outputs": [],
   "source": []
  }
 ],
 "metadata": {
  "kernelspec": {
   "display_name": "Python 3",
   "language": "python",
   "name": "python3"
  },
  "language_info": {
   "codemirror_mode": {
    "name": "ipython",
    "version": 3
   },
   "file_extension": ".py",
   "mimetype": "text/x-python",
   "name": "python",
   "nbconvert_exporter": "python",
   "pygments_lexer": "ipython3",
   "version": "3.9.4"
  },
  "toc-autonumbering": true,
  "toc-showcode": false,
  "toc-showmarkdowntxt": false,
  "toc-showtags": false,
  "widgets": {
   "application/vnd.jupyter.widget-state+json": {
    "state": {},
    "version_major": 2,
    "version_minor": 0
   }
  }
 },
 "nbformat": 4,
 "nbformat_minor": 4
}
